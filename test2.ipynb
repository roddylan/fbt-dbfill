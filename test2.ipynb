{
 "cells": [
  {
   "cell_type": "code",
   "execution_count": 5,
   "id": "c2b46377",
   "metadata": {},
   "outputs": [],
   "source": [
    "import numpy as np\n",
    "import pandas as pd\n",
    "from bs4 import BeautifulSoup\n",
    "import requests\n",
    "from io import StringIO"
   ]
  },
  {
   "cell_type": "code",
   "execution_count": null,
   "id": "b83725d0",
   "metadata": {},
   "outputs": [],
   "source": [
    "def pff_player_url(player_id: str, year: int = 2024) -> str:\n",
    "  return f\"https://www.pro-football-reference.com/players/M/{player_id}/gamelog/{year}\"\n",
    "\n",
    "def pff_team_url(team: str, year: int = 2024) -> str:\n",
    "  return f\"https://www.pro-football-reference.com/teams/{team}/{year}/gamelog\"\n",
    "\n",
    "def team_fantasy_data(team: str, year: int = 2024, week_from: int = 1, week_to: int = 18):\n",
    "  assert(year > 2018)\n",
    "  assert(week_from >= 1 and week_from <= week_to)\n",
    "  assert(week_to >= week_from and week_to <= 18)\n",
    "  f\"https://fantasydata.com/nfl/fantasy-football-leaders?scope=game&sp={year}_REG&week_from={week_from}&week_to={week_to}&position=dst&team={team}&scoring=fpts_ppr&order_by=team&sort_dir=asc\"\n",
    "\n",
    "def fantasy_data(team: str, pos: str, year: int = 2024, week_from: int = 1, week_to: int = 18):\n",
    "  assert(year > 2018)\n",
    "  assert(week_from >= 1 and week_from <= week_to)\n",
    "  assert(week_to >= week_from and week_to <= 18)\n",
    "  f\"https://fantasydata.com/nfl/fantasy-football-leaders?scope=game&sp={year}_REG&week_from={week_from}&week_to={week_to}&position={pos}&team={team}&scoring=fpts_ppr&order_by=team&sort_dir=asc\""
   ]
  },
  {
   "cell_type": "code",
   "execution_count": 43,
   "id": "02877b32",
   "metadata": {},
   "outputs": [
    {
     "data": {
      "text/plain": [
       "'https://www.pro-football-reference.com/players/M/MahoPa00/gamelog/2024'"
      ]
     },
     "execution_count": 43,
     "metadata": {},
     "output_type": "execute_result"
    }
   ],
   "source": [
    "pff_player_url(\"MahoPa00\")"
   ]
  },
  {
   "cell_type": "code",
   "execution_count": 96,
   "id": "ce47355b",
   "metadata": {},
   "outputs": [],
   "source": [
    "CUR_TEAM_TABLE_ID = \"table_pfr_team-year_game-logs_team-year-regular-season-game-log\"\n",
    "OPP_TEAM_TABLE_ID = \"table_pfr_team-year_game-logs_team-year-regular-season-opponent-game-log\"\n",
    "PLAYER_TABLE_ID = \"stats\""
   ]
  },
  {
   "cell_type": "code",
   "execution_count": 97,
   "id": "91b02d38",
   "metadata": {},
   "outputs": [
    {
     "data": {
      "text/plain": [
       "\"url='https://www.pro-football-reference.com/teams/sfo/2024/gamelog'\""
      ]
     },
     "execution_count": 97,
     "metadata": {},
     "output_type": "execute_result"
    }
   ],
   "source": [
    "url = pff_team_url(\"sfo\")\n",
    "f\"{url=}\""
   ]
  },
  {
   "cell_type": "code",
   "execution_count": 98,
   "id": "bf94f2c1",
   "metadata": {},
   "outputs": [],
   "source": [
    "res = requests.get(url)\n",
    "soup = BeautifulSoup(res.text, 'html.parser')"
   ]
  },
  {
   "cell_type": "code",
   "execution_count": 99,
   "id": "58ced653",
   "metadata": {},
   "outputs": [],
   "source": [
    "# team table\n",
    "cur_team_table = soup.find(\"table\", {\"id\": CUR_TEAM_TABLE_ID})\n",
    "opp_team_table = soup.find(\"table\", {\"id\": OPP_TEAM_TABLE_ID})"
   ]
  },
  {
   "cell_type": "code",
   "execution_count": 100,
   "id": "4c6f8696",
   "metadata": {},
   "outputs": [],
   "source": [
    "cur_df = pd.read_html(StringIO(str(cur_team_table)))[0]\n",
    "opp_df = pd.read_html(StringIO(str(opp_team_table)))[0]\n"
   ]
  },
  {
   "cell_type": "code",
   "execution_count": null,
   "id": "78e9b08d",
   "metadata": {},
   "outputs": [
    {
     "data": {
      "text/plain": [
       "0      32\n",
       "1      17\n",
       "2      24\n",
       "3      24\n",
       "4      17\n",
       "5      36\n",
       "6      18\n",
       "7      30\n",
       "8      23\n",
       "9      17\n",
       "10     10\n",
       "11     10\n",
       "12     38\n",
       "13      6\n",
       "14     17\n",
       "15     34\n",
       "16     24\n",
       "17    377\n",
       "dtype: int64"
      ]
     },
     "execution_count": 110,
     "metadata": {},
     "output_type": "execute_result"
    }
   ],
   "source": [
    "# D/ST\n",
    "\n",
    "opp_df.Passing.Sk # sacks\n",
    "opp_df.Turnovers.Int # interceptions\n",
    "cur_df.Turnovers.FL # fumbles lost\n",
    "opp_df.Turnovers.FL # fumbles recovered\n",
    "opp_df.Turnovers.TO # turnovers\n",
    "cur_df.Score.PtsO # pts against\n",
    "\n",
    "\n",
    "cur_df.Score.Pts # total pts\n",
    "6 * (cur_df.Passing.TD + cur_df.Rushing.TD) + cur_df.Kicking.XPM + 3 * cur_df.Kicking.FGM # offensive points, no FTD, 2XP\n",
    "# also missing safety, pick 6\n",
    "\n"
   ]
  }
 ],
 "metadata": {
  "kernelspec": {
   "display_name": ".venv",
   "language": "python",
   "name": "python3"
  },
  "language_info": {
   "codemirror_mode": {
    "name": "ipython",
    "version": 3
   },
   "file_extension": ".py",
   "mimetype": "text/x-python",
   "name": "python",
   "nbconvert_exporter": "python",
   "pygments_lexer": "ipython3",
   "version": "3.13.2"
  }
 },
 "nbformat": 4,
 "nbformat_minor": 5
}
