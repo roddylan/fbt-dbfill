{
 "cells": [
  {
   "cell_type": "code",
   "execution_count": null,
   "id": "c2b46377",
   "metadata": {},
   "outputs": [],
   "source": [
    "import numpy as np\n",
    "import pandas as pd\n",
    "import BeautifulSoup"
   ]
  },
  {
   "cell_type": "code",
   "execution_count": null,
   "id": "b83725d0",
   "metadata": {},
   "outputs": [],
   "source": [
    "def pff_player_url(player_id: str, year: int = 2024) -> str:\n",
    "  f\"https://www.pro-football-reference.com/players/M/{player_id}/gamelog/{year}\""
   ]
  },
  {
   "cell_type": "code",
   "execution_count": null,
   "id": "cf834232",
   "metadata": {},
   "outputs": [],
   "source": [
    "year = 2023\n",
    "start_week = 1\n",
    "end_week = 2\n",
    "scoring=\"HALF\"    \n",
    "url = f\"https://www.fantasypros.com/nfl/reports/leaders/defense.php?year={year}&start={start_week}&end={end_week}&scoring={scoring}\"\n",
    "\n",
    "\n"
   ]
  },
  {
   "cell_type": "code",
   "execution_count": 6,
   "id": "2fc621dd",
   "metadata": {},
   "outputs": [],
   "source": [
    "YEAR=2024"
   ]
  }
 ],
 "metadata": {
  "kernelspec": {
   "display_name": ".venv",
   "language": "python",
   "name": "python3"
  },
  "language_info": {
   "codemirror_mode": {
    "name": "ipython",
    "version": 3
   },
   "file_extension": ".py",
   "mimetype": "text/x-python",
   "name": "python",
   "nbconvert_exporter": "python",
   "pygments_lexer": "ipython3",
   "version": "3.13.2"
  }
 },
 "nbformat": 4,
 "nbformat_minor": 5
}
