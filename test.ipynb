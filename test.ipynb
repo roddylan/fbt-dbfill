{
 "cells": [
  {
   "cell_type": "code",
   "execution_count": null,
   "id": "c2b46377",
   "metadata": {},
   "outputs": [],
   "source": [
    "import numpy as np\n",
    "import pandas as pd\n",
    "from bs4 import BeautifulSoup\n",
    "import requests"
   ]
  },
  {
   "cell_type": "code",
   "execution_count": null,
   "id": "b83725d0",
   "metadata": {},
   "outputs": [],
   "source": [
    "def pff_player_url(player_id: str, year: int = 2024) -> str:\n",
    "  return f\"https://www.pro-football-reference.com/players/M/{player_id}/gamelog/{year}\"\n",
    "\n",
    "def pff_team_url(team: str, year: int = 2024) -> str:\n",
    "  return f\"https://www.pro-football-reference.com/teams/{team}/{year}/gamelog\""
   ]
  },
  {
   "cell_type": "code",
   "execution_count": 40,
   "id": "02877b32",
   "metadata": {},
   "outputs": [
    {
     "data": {
      "text/plain": [
       "'https://www.pro-football-reference.com/players/M/MahoPa00/gamelog/2024'"
      ]
     },
     "execution_count": 40,
     "metadata": {},
     "output_type": "execute_result"
    }
   ],
   "source": [
    "pff_player_url(\"MahoPa00\")"
   ]
  },
  {
   "cell_type": "code",
   "execution_count": null,
   "id": "ce47355b",
   "metadata": {},
   "outputs": [],
   "source": [
    "TEAM_TABLE_ID = \"table_pfr_team-year_game-logs_team-year-regular-season-game-log\"\n",
    "PLAYER_TABLE_ID = \"stats\""
   ]
  },
  {
   "cell_type": "code",
   "execution_count": null,
   "id": "91b02d38",
   "metadata": {},
   "outputs": [],
   "source": [
    "url = pff_team_url(\"sfo\")\n",
    "url"
   ]
  },
  {
   "cell_type": "code",
   "execution_count": null,
   "id": "bf94f2c1",
   "metadata": {},
   "outputs": [],
   "source": [
    "res = requests.get(url)\n",
    "soup = BeautifulSoup(res.text, 'html.parser')"
   ]
  },
  {
   "cell_type": "code",
   "execution_count": null,
   "id": "58ced653",
   "metadata": {},
   "outputs": [],
   "source": [
    "# team table\n",
    "team_table = soup.find(\"table\", {\"id\": \"table_pfr_team-year_game-logs_team-year-regular-season-game-log\"})"
   ]
  },
  {
   "cell_type": "code",
   "execution_count": null,
   "id": "cf834232",
   "metadata": {},
   "outputs": [],
   "source": [
    "year = 2023\n",
    "start_week = 1\n",
    "end_week = 2\n",
    "scoring=\"HALF\"    \n",
    "url = f\"https://www.fantasypros.com/nfl/reports/leaders/defense.php?year={year}&start={start_week}&end={end_week}&scoring={scoring}\"\n",
    "\n",
    "\n"
   ]
  },
  {
   "cell_type": "code",
   "execution_count": null,
   "id": "2fc621dd",
   "metadata": {},
   "outputs": [],
   "source": [
    "YEAR=2024"
   ]
  },
  {
   "cell_type": "code",
   "execution_count": null,
   "id": "778f1aea",
   "metadata": {},
   "outputs": [],
   "source": [
    "url"
   ]
  }
 ],
 "metadata": {
  "kernelspec": {
   "display_name": ".venv",
   "language": "python",
   "name": "python3"
  },
  "language_info": {
   "codemirror_mode": {
    "name": "ipython",
    "version": 3
   },
   "file_extension": ".py",
   "mimetype": "text/x-python",
   "name": "python",
   "nbconvert_exporter": "python",
   "pygments_lexer": "ipython3",
   "version": "3.13.2"
  }
 },
 "nbformat": 4,
 "nbformat_minor": 5
}
