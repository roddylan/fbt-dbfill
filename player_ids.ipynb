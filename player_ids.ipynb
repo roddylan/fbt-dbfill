{
 "cells": [
  {
   "cell_type": "code",
   "execution_count": 58,
   "id": "128989fe",
   "metadata": {},
   "outputs": [],
   "source": [
    "import numpy as np\n",
    "import pandas as pd\n",
    "from bs4 import BeautifulSoup\n",
    "from bs4.element import Tag\n",
    "import requests\n",
    "from io import StringIO\n",
    "from typing import Dict, List, Tuple\n",
    "import json\n",
    "\n",
    "\n",
    "\n",
    "def pfr_web(letter: str) -> str:\n",
    "  assert(len(letter) > 0)\n",
    "  return f\"https://www.pro-football-reference.com/players/{letter[0].upper()}/\""
   ]
  },
  {
   "cell_type": "code",
   "execution_count": 48,
   "id": "c4ada301",
   "metadata": {},
   "outputs": [],
   "source": [
    "res = requests.get(pfr_web('A'))\n",
    "html = BeautifulSoup(res.text)\n",
    "links = html.find(\"div\", {\"id\": \"all_players\"}).find_all(\"a\")\n",
    "\n",
    "player_name = links[0].text\n",
    "player_id = links[0].get('href').split('/')[-1].split('.')[0]\n"
   ]
  },
  {
   "cell_type": "code",
   "execution_count": 49,
   "id": "da976d4d",
   "metadata": {},
   "outputs": [
    {
     "data": {
      "text/plain": [
       "bs4.element.Tag"
      ]
     },
     "execution_count": 49,
     "metadata": {},
     "output_type": "execute_result"
    }
   ],
   "source": [
    "type(links[0])"
   ]
  },
  {
   "cell_type": "code",
   "execution_count": 50,
   "id": "e5f05148",
   "metadata": {},
   "outputs": [],
   "source": [
    "def map_ids() -> Tuple[Dict[str, str], Dict[str, str]]:\n",
    "  name_to_id = {}\n",
    "  id_to_name = {}\n",
    "  for i in range(0, 26):\n",
    "    letter = chr(ord('a') + i)\n",
    "    res = requests.get(pfr_web(letter.upper()))\n",
    "    html = BeautifulSoup(res.text)\n",
    "    links: List[Tag] = html.find(\"div\", {\"id\": \"all_players\"}).find_all(\"a\")\n",
    "    for link in links:\n",
    "      player_name = link.text\n",
    "      player_id = link.get('href').split('/')[-1].split('.')[0]\n",
    "      name_to_id[player_name] = player_id\n",
    "      id_to_name[player_id] = player_name\n",
    "  return name_to_id, id_to_name"
   ]
  },
  {
   "cell_type": "code",
   "execution_count": 42,
   "id": "3419f7e6",
   "metadata": {},
   "outputs": [],
   "source": [
    "name_to_id, id_to_name = map_ids()"
   ]
  },
  {
   "cell_type": "code",
   "execution_count": 59,
   "id": "8d17225c",
   "metadata": {},
   "outputs": [],
   "source": [
    "test = json.dumps(name_to_id)"
   ]
  },
  {
   "cell_type": "code",
   "execution_count": 66,
   "id": "b74391ba",
   "metadata": {},
   "outputs": [
    {
     "data": {
      "text/plain": [
       "'PresDa01'"
      ]
     },
     "execution_count": 66,
     "metadata": {},
     "output_type": "execute_result"
    }
   ],
   "source": [
    "json.loads(test)[\"Dak Prescott\"]"
   ]
  }
 ],
 "metadata": {
  "kernelspec": {
   "display_name": ".venv",
   "language": "python",
   "name": "python3"
  },
  "language_info": {
   "codemirror_mode": {
    "name": "ipython",
    "version": 3
   },
   "file_extension": ".py",
   "mimetype": "text/x-python",
   "name": "python",
   "nbconvert_exporter": "python",
   "pygments_lexer": "ipython3",
   "version": "3.13.2"
  }
 },
 "nbformat": 4,
 "nbformat_minor": 5
}
