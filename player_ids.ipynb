{
 "cells": [
  {
   "cell_type": "code",
   "execution_count": 9,
   "id": "128989fe",
   "metadata": {},
   "outputs": [],
   "source": [
    "import numpy as np\n",
    "import pandas as pd\n",
    "from bs4 import BeautifulSoup\n",
    "from bs4.element import Tag\n",
    "import requests\n",
    "from io import StringIO\n",
    "from typing import Dict, List, Tuple\n",
    "import json\n",
    "import re\n",
    "\n",
    "\n",
    "\n",
    "def pfr_web(letter: str) -> str:\n",
    "  assert(len(letter) > 0)\n",
    "  return f\"https://www.pro-football-reference.com/players/{letter[0].upper()}/\"\n",
    "\n",
    "def pfr_player_url(player_id: str, year: int = 2024) -> str:\n",
    "  return f\"https://www.pro-football-reference.com/players/{player_id[0].upper()}/{player_id}/gamelog/{year}\""
   ]
  },
  {
   "cell_type": "code",
   "execution_count": 7,
   "id": "a2321acd",
   "metadata": {},
   "outputs": [],
   "source": [
    "res = requests.get(pfr_web('a'))\n",
    "html = BeautifulSoup(res.text)\n",
    "links: List[Tag] = html.find(\"div\", {\"id\": \"all_players\"}).find_all(\"a\")"
   ]
  },
  {
   "cell_type": "code",
   "execution_count": 11,
   "id": "a4cb7313",
   "metadata": {},
   "outputs": [
    {
     "data": {
      "text/plain": [
       "['NT']"
      ]
     },
     "execution_count": 11,
     "metadata": {},
     "output_type": "execute_result"
    }
   ],
   "source": [
    "re.findall(r\"\\((.*?)\\)\", links[0].next_sibling.strip())"
   ]
  },
  {
   "cell_type": "code",
   "execution_count": 14,
   "id": "e5f05148",
   "metadata": {},
   "outputs": [],
   "source": [
    "def map_ids(year: int = 2024) -> Tuple[Dict[str, str], Dict[str, Dict[str, str | List[str]]]]:\n",
    "  name_to_id = {}\n",
    "  id_to_player = {}\n",
    "  for i in range(0, 26):\n",
    "    letter = chr(ord('a') + i)\n",
    "    res = requests.get(pfr_web(letter.upper()))\n",
    "    if res.status_code != 200: continue\n",
    "    html = BeautifulSoup(res.text)\n",
    "    links: List[Tag] = html.find(\"div\", {\"id\": \"all_players\"}).find_all(\"a\")\n",
    "    # res.close()\n",
    "    for link in links:\n",
    "      player_name = link.text\n",
    "      player_id = link.get('href').split('/')[-1].split('.')[0]\n",
    "      \n",
    "      # player_res = requests.get(pfr_player_url(player_id, year))\n",
    "      # player_html = BeautifulSoup(player_res.text)\n",
    "      # pos = player_html.find(\"strong\", string=\"Position\").next_sibling.split(':')[-1].strip()\n",
    "      # player_res.close()\n",
    "      pos = re.findall(r\"\\((.*?)\\)\", link.next_sibling.strip())[0]\n",
    "\n",
    "      name_to_id[player_name] = player_id\n",
    "      id_to_player[player_id] = {\n",
    "        \"name\": player_name,\n",
    "        \"pos\": pos,\n",
    "      }\n",
    "  return name_to_id, id_to_player"
   ]
  },
  {
   "cell_type": "code",
   "execution_count": 13,
   "id": "3419f7e6",
   "metadata": {},
   "outputs": [],
   "source": [
    "name_to_id, id_to_player = map_ids()"
   ]
  },
  {
   "cell_type": "code",
   "execution_count": 29,
   "id": "8d17225c",
   "metadata": {},
   "outputs": [],
   "source": [
    "def export(to_player, to_id):\n",
    "  with open(\"id_to_player.json\", 'w') as f:\n",
    "    json.dump(id_to_player, f, indent=2)\n",
    "  with open(\"name_to_id.json\", 'w') as f:\n",
    "    json.dump(name_to_id, f, indent=2)"
   ]
  }
 ],
 "metadata": {
  "kernelspec": {
   "display_name": ".venv",
   "language": "python",
   "name": "python3"
  },
  "language_info": {
   "codemirror_mode": {
    "name": "ipython",
    "version": 3
   },
   "file_extension": ".py",
   "mimetype": "text/x-python",
   "name": "python",
   "nbconvert_exporter": "python",
   "pygments_lexer": "ipython3",
   "version": "3.13.2"
  }
 },
 "nbformat": 4,
 "nbformat_minor": 5
}
